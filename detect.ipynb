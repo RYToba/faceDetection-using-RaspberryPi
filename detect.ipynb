{
 "cells": [
  {
   "cell_type": "code",
   "execution_count": 1,
   "metadata": {},
   "outputs": [],
   "source": [
    "#!/usr/bin/env python\n",
    "# -*- coding: utf-8 -*-\n",
    "\n",
    "import cv2, time\n",
    "from datetime import datetime\n",
    "import slackweb\n",
    "import os\n",
    "\n",
    "#proxy認証\n",
    "#os.environ[\"HTTP_PROXY\"] = \"proxy_adress\"\n",
    "#os.environ[\"HTTPS_PROXY\"] = \"proxy_adress\"\n",
    "\n",
    "# 正面の顔検出用\n",
    "cascPath = '-----Your_Path-----/lbpcascades/lbpcascade_frontalface.xml'\n",
    "faceCascade = cv2.CascadeClassifier(cascPath)\n",
    "\n",
    "#Slackに通知を飛ばす\n",
    "#slack = slackweb.Slack(url=\"<https://hooks.slack.com/services/-----Your_adress-----\")\n",
    "\n",
    "#MJPEGStream\n",
    "URL = \"-----raspberry_address------/?action=stream\"\n",
    "s_video = cv2.VideoCapture(URL)\n",
    "\n",
    "while True:\n",
    "  ret, img = s_video.read()\n",
    "\n",
    "  gray = cv2.cvtColor(img, cv2.COLOR_BGR2GRAY)\n",
    "  gray = cv2.equalizeHist( gray )\n",
    "  faces = faceCascade.detectMultiScale(gray, 1.1, 3, 0, (10, 10))\n",
    "\n",
    "  for (x, y, w, h) in faces:\n",
    "      cv2.rectangle(img, (x, y), (x+w, y+h), (0, 255, 0), 2)\n",
    "      time = datetime.now().strftime('%Y%m%d%H%M%S')\n",
    "      # imgフォルダに格納\n",
    "      path = '.\\\\\\\\img\\\\\\\\' + time + '.jpg'\n",
    "      cut_face = img[y:y+h,x:x+w,:]\n",
    "      cut_face_resize = cv2.resize(cut_face,(64,64))\n",
    "      cv2.imwrite(path, cut_face_resize)\n",
    "      # slackに通知\n",
    "      # slack.notify(text=\"メッセージ\")\n",
    "    \n",
    "  cv2.imshow(\"Face-Detect-Video\",img)\n",
    "  key = cv2.waitKey(1) & 0xff\n",
    "  if key == ord('q'): break"
   ]
  }
 ],
 "metadata": {
  "kernelspec": {
   "display_name": "Python 3",
   "language": "python",
   "name": "python3"
  },
  "language_info": {
   "codemirror_mode": {
    "name": "ipython",
    "version": 3
   },
   "file_extension": ".py",
   "mimetype": "text/x-python",
   "name": "python",
   "nbconvert_exporter": "python",
   "pygments_lexer": "ipython3",
   "version": "3.7.1"
  }
 },
 "nbformat": 4,
 "nbformat_minor": 2
}
